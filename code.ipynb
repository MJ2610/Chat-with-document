{
  "nbformat": 4,
  "nbformat_minor": 0,
  "metadata": {
    "colab": {
      "provenance": [],
      "name": "code.ipynb",
      "authorship_tag": "ABX9TyOMAqbrIMkZIg51ChQZtPKx",
      "include_colab_link": true
    },
    "kernelspec": {
      "name": "python3",
      "display_name": "Python 3"
    },
    "language_info": {
      "name": "python"
    }
  },
  "cells": [
    {
      "cell_type": "markdown",
      "metadata": {
        "id": "view-in-github",
        "colab_type": "text"
      },
      "source": [
        "<a href=\"https://colab.research.google.com/github/MJ2610/Chat-with-document/blob/main/code.ipynb\" target=\"_parent\"><img src=\"https://colab.research.google.com/assets/colab-badge.svg\" alt=\"Open In Colab\"/></a>"
      ]
    },
    {
      "cell_type": "markdown",
      "source": [
        "# Stage 1> Document loading into standar format."
      ],
      "metadata": {
        "id": "0e11xwbQAQn3"
      }
    },
    {
      "cell_type": "markdown",
      "source": [],
      "metadata": {
        "id": "wN3bL3fChWMk"
      }
    },
    {
      "cell_type": "code",
      "source": [
        "! pip install langchain\n",
        "!pip install python-dotenv"
      ],
      "metadata": {
        "id": "2D7NG293yx0m"
      },
      "execution_count": null,
      "outputs": []
    },
    {
      "cell_type": "markdown",
      "source": [
        "In order to get the api key, visit the openAI api platform, then next under your account/profile you'll find the api keys section. Use the best practises to secure the key."
      ],
      "metadata": {
        "id": "w_0odg7c4fTs"
      }
    },
    {
      "cell_type": "code",
      "execution_count": null,
      "metadata": {
        "id": "7HRFdKx8u0sO"
      },
      "outputs": [],
      "source": [
        "import os\n",
        "import openai\n",
        "import sys\n",
        "sys.path.append('../..')\n",
        "\n",
        "from dotenv import load_dotenv, find_dotenv\n",
        "_ = load_dotenv(find_dotenv()) # read local .env file\n",
        "\n",
        "openai.api_key  = os.environ['OPENAI_API_KEY']"
      ]
    },
    {
      "cell_type": "markdown",
      "source": [
        "**PDF's**\n",
        "\n",
        "For loading the pdf into the langchain."
      ],
      "metadata": {
        "id": "TF2MK7wY6cUI"
      }
    },
    {
      "cell_type": "code",
      "source": [
        "#! pip install pypdf\n",
        "from langchain.document_loaders import PyPDFLoader\n",
        "loader = PyPDFLoader(\"\")#your desired doc location in this section\n",
        "pages = loader.load()"
      ],
      "metadata": {
        "id": "-sxzQ7nb5JsE"
      },
      "execution_count": null,
      "outputs": []
    },
    {
      "cell_type": "code",
      "source": [
        "len(pages)"
      ],
      "metadata": {
        "id": "vQXkSCP35s5Y"
      },
      "execution_count": null,
      "outputs": []
    },
    {
      "cell_type": "code",
      "source": [
        "page = pages[0]"
      ],
      "metadata": {
        "id": "fAWrGPKI5wBp"
      },
      "execution_count": null,
      "outputs": []
    },
    {
      "cell_type": "code",
      "source": [
        "print(page.page_content[0:500])"
      ],
      "metadata": {
        "id": "DM9eMI4B5yrm"
      },
      "execution_count": null,
      "outputs": []
    },
    {
      "cell_type": "code",
      "source": [
        "page.metadata"
      ],
      "metadata": {
        "id": "vCf016R76Oxz"
      },
      "execution_count": null,
      "outputs": []
    },
    {
      "cell_type": "markdown",
      "source": [
        "**Youtube**\n",
        "For loading the youtube video."
      ],
      "metadata": {
        "id": "rDqjVn876uvc"
      }
    },
    {
      "cell_type": "code",
      "source": [
        "from langchain.document_loaders.generic import GenericLoader,  FileSystemBlobLoader\n",
        "from langchain.document_loaders.parsers import OpenAIWhisperParser\n",
        "from langchain.document_loaders.blob_loaders.youtube_audio import YoutubeAudioLoader\n",
        "\n",
        "\n",
        "# ! pip install yt_dlp\n",
        "# ! pip install pydub"
      ],
      "metadata": {
        "id": "_b4p7WBM6whn"
      },
      "execution_count": null,
      "outputs": []
    },
    {
      "cell_type": "code",
      "source": [
        "url=\"\" # Desired youtibe video URL\n",
        "save_dir=\"docs/youtube/\"\n",
        "loader = GenericLoader(\n",
        "    #YoutubeAudioLoader([url],save_dir),  # fetch from youtube\n",
        "    FileSystemBlobLoader(save_dir, glob=\"*.m4a\"),   #fetch locally\n",
        "    OpenAIWhisperParser()\n",
        ")\n",
        "docs = loader.load()"
      ],
      "metadata": {
        "id": "ecPcQJSW7K2J"
      },
      "execution_count": null,
      "outputs": []
    },
    {
      "cell_type": "code",
      "source": [
        "docs[0].page_content[0:500]"
      ],
      "metadata": {
        "id": "nEqLCjpG7XtJ"
      },
      "execution_count": null,
      "outputs": []
    },
    {
      "cell_type": "markdown",
      "source": [
        "**Webpage URL's**"
      ],
      "metadata": {
        "id": "WU8LejaY7aN4"
      }
    },
    {
      "cell_type": "code",
      "source": [
        "from langchain.document_loaders import WebBaseLoader\n",
        "\n",
        "loader = WebBaseLoader(\"\") #desired webpage url for loading."
      ],
      "metadata": {
        "id": "vIllR4hT7jit"
      },
      "execution_count": null,
      "outputs": []
    },
    {
      "cell_type": "code",
      "source": [
        "docs = loader.load()"
      ],
      "metadata": {
        "id": "UmBQTD5_7sUj"
      },
      "execution_count": null,
      "outputs": []
    },
    {
      "cell_type": "code",
      "source": [
        "print(docs[0].page_content[:500])"
      ],
      "metadata": {
        "id": "yB6y-Co77t_J"
      },
      "execution_count": null,
      "outputs": []
    },
    {
      "cell_type": "markdown",
      "source": [
        "# Step 2> Splitting/Chunking for processing of the loaded data."
      ],
      "metadata": {
        "id": "mdRV1uP-AqNo"
      }
    }
  ]
}