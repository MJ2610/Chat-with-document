{
  "nbformat": 4,
  "nbformat_minor": 0,
  "metadata": {
    "colab": {
      "provenance": [],
      "name": "code.ipynb",
      "authorship_tag": "ABX9TyPRW9pnJ24wEc8rwH4oX0Fs",
      "include_colab_link": true
    },
    "kernelspec": {
      "name": "python3",
      "display_name": "Python 3"
    },
    "language_info": {
      "name": "python"
    }
  },
  "cells": [
    {
      "cell_type": "markdown",
      "metadata": {
        "id": "view-in-github",
        "colab_type": "text"
      },
      "source": [
        "<a href=\"https://colab.research.google.com/github/MJ2610/Chat-with-document/blob/main/code.ipynb\" target=\"_parent\"><img src=\"https://colab.research.google.com/assets/colab-badge.svg\" alt=\"Open In Colab\"/></a>"
      ]
    },
    {
      "cell_type": "markdown",
      "source": [
        "# Stage 1> Document loading into standar format."
      ],
      "metadata": {
        "id": "0e11xwbQAQn3"
      }
    },
    {
      "cell_type": "markdown",
      "source": [],
      "metadata": {
        "id": "wN3bL3fChWMk"
      }
    },
    {
      "cell_type": "code",
      "source": [
        "! pip install langchain\n",
        "!pip install python-dotenv"
      ],
      "metadata": {
        "id": "2D7NG293yx0m"
      },
      "execution_count": null,
      "outputs": []
    },
    {
      "cell_type": "markdown",
      "source": [
        "In order to get the api key, visit the openAI api platform, then next under your account/profile you'll find the api keys section. Use the best practises to secure the key."
      ],
      "metadata": {
        "id": "w_0odg7c4fTs"
      }
    },
    {
      "cell_type": "code",
      "execution_count": null,
      "metadata": {
        "id": "7HRFdKx8u0sO"
      },
      "outputs": [],
      "source": [
        "import os\n",
        "import openai\n",
        "import sys\n",
        "sys.path.append('../..')\n",
        "\n",
        "from dotenv import load_dotenv, find_dotenv\n",
        "_ = load_dotenv(find_dotenv()) # read local .env file\n",
        "\n",
        "openai.api_key  = os.environ['OPENAI_API_KEY']"
      ]
    },
    {
      "cell_type": "markdown",
      "source": [
        "**PDF's**\n",
        "\n",
        "For loading the pdf into the langchain."
      ],
      "metadata": {
        "id": "TF2MK7wY6cUI"
      }
    },
    {
      "cell_type": "code",
      "source": [
        "#! pip install pypdf\n",
        "from langchain.document_loaders import PyPDFLoader\n",
        "loader = PyPDFLoader(\"\")#your desired doc location in this section\n",
        "pages = loader.load()"
      ],
      "metadata": {
        "id": "-sxzQ7nb5JsE"
      },
      "execution_count": null,
      "outputs": []
    },
    {
      "cell_type": "code",
      "source": [
        "len(pages)"
      ],
      "metadata": {
        "id": "vQXkSCP35s5Y"
      },
      "execution_count": null,
      "outputs": []
    },
    {
      "cell_type": "code",
      "source": [
        "page = pages[0]"
      ],
      "metadata": {
        "id": "fAWrGPKI5wBp"
      },
      "execution_count": null,
      "outputs": []
    },
    {
      "cell_type": "code",
      "source": [
        "print(page.page_content[0:500])"
      ],
      "metadata": {
        "id": "DM9eMI4B5yrm"
      },
      "execution_count": null,
      "outputs": []
    },
    {
      "cell_type": "code",
      "source": [
        "page.metadata"
      ],
      "metadata": {
        "id": "vCf016R76Oxz"
      },
      "execution_count": null,
      "outputs": []
    },
    {
      "cell_type": "markdown",
      "source": [
        "**Youtube**\n",
        "For loading the youtube video."
      ],
      "metadata": {
        "id": "rDqjVn876uvc"
      }
    },
    {
      "cell_type": "code",
      "source": [
        "from langchain.document_loaders.generic import GenericLoader,  FileSystemBlobLoader\n",
        "from langchain.document_loaders.parsers import OpenAIWhisperParser\n",
        "from langchain.document_loaders.blob_loaders.youtube_audio import YoutubeAudioLoader\n",
        "\n",
        "\n",
        "# ! pip install yt_dlp\n",
        "# ! pip install pydub"
      ],
      "metadata": {
        "id": "_b4p7WBM6whn"
      },
      "execution_count": null,
      "outputs": []
    },
    {
      "cell_type": "code",
      "source": [
        "url=\"\" # Desired youtibe video URL\n",
        "save_dir=\"docs/youtube/\"\n",
        "loader = GenericLoader(\n",
        "    #YoutubeAudioLoader([url],save_dir),  # fetch from youtube\n",
        "    FileSystemBlobLoader(save_dir, glob=\"*.m4a\"),   #fetch locally\n",
        "    OpenAIWhisperParser()\n",
        ")\n",
        "docs = loader.load()"
      ],
      "metadata": {
        "id": "ecPcQJSW7K2J"
      },
      "execution_count": null,
      "outputs": []
    },
    {
      "cell_type": "code",
      "source": [
        "docs[0].page_content[0:500]"
      ],
      "metadata": {
        "id": "nEqLCjpG7XtJ"
      },
      "execution_count": null,
      "outputs": []
    },
    {
      "cell_type": "markdown",
      "source": [
        "**Webpage URL's**"
      ],
      "metadata": {
        "id": "WU8LejaY7aN4"
      }
    },
    {
      "cell_type": "code",
      "source": [
        "from langchain.document_loaders import WebBaseLoader\n",
        "\n",
        "loader = WebBaseLoader(\"\") #desired webpage url for loading."
      ],
      "metadata": {
        "id": "vIllR4hT7jit"
      },
      "execution_count": null,
      "outputs": []
    },
    {
      "cell_type": "code",
      "source": [
        "docs = loader.load()"
      ],
      "metadata": {
        "id": "UmBQTD5_7sUj"
      },
      "execution_count": null,
      "outputs": []
    },
    {
      "cell_type": "code",
      "source": [
        "print(docs[0].page_content[:500])"
      ],
      "metadata": {
        "id": "yB6y-Co77t_J"
      },
      "execution_count": null,
      "outputs": []
    },
    {
      "cell_type": "markdown",
      "source": [
        "# Step 2> Splitting/Chunking for processing of the loaded data."
      ],
      "metadata": {
        "id": "mdRV1uP-AqNo"
      }
    },
    {
      "cell_type": "code",
      "source": [
        "from langchain.text_splitter import RecursiveCharacterTextSplitter # or CharacterTextSplitter"
      ],
      "metadata": {
        "id": "fap_sScLjUsN"
      },
      "execution_count": null,
      "outputs": []
    },
    {
      "cell_type": "code",
      "source": [
        "chunk_size = 26 #Define chunk size and chunk overlap\n",
        "chunk_overlap = 4"
      ],
      "metadata": {
        "id": "8_5OL7lFjadN"
      },
      "execution_count": null,
      "outputs": []
    },
    {
      "cell_type": "code",
      "source": [
        "text_splitter = RecursiveCharacterTextSplitter(\n",
        "    chunk_size=chunk_size,\n",
        "    chunk_overlap=chunk_overlap\n",
        ")"
      ],
      "metadata": {
        "id": "mOYD1AEBjfeL"
      },
      "execution_count": null,
      "outputs": []
    },
    {
      "cell_type": "code",
      "source": [
        "# c_splitter = CharacterTextSplitter(\n",
        "#     chunk_size=chunk_size,\n",
        "#     chunk_overlap=chunk_overlap\n",
        "# ) if CharacterTextSplitter used"
      ],
      "metadata": {
        "id": "5G9YRpSpjpi0"
      },
      "execution_count": null,
      "outputs": []
    },
    {
      "cell_type": "code",
      "source": [
        "splits = text_splitter.split_documents(pages)"
      ],
      "metadata": {
        "id": "3Bc0AFfbk9aC"
      },
      "execution_count": null,
      "outputs": []
    },
    {
      "cell_type": "code",
      "source": [
        "len(splits)"
      ],
      "metadata": {
        "id": "6IX2JbG-li1S"
      },
      "execution_count": null,
      "outputs": []
    },
    {
      "cell_type": "markdown",
      "source": [
        "**Step 3 : Embedding**"
      ],
      "metadata": {
        "id": "z_5DCd4-lout"
      }
    },
    {
      "cell_type": "code",
      "source": [
        "from langchain.embeddings.openai import OpenAIEmbeddings\n",
        "embedding = OpenAIEmbeddings()"
      ],
      "metadata": {
        "id": "2xEYN_7zlmAs"
      },
      "execution_count": null,
      "outputs": []
    },
    {
      "cell_type": "markdown",
      "source": [
        "**Step 4: Vectorstores**\n"
      ],
      "metadata": {
        "id": "yDK0FLNll9Nk"
      }
    },
    {
      "cell_type": "code",
      "source": [
        "# ! pip install chromadb\n",
        "from langchain.vectorstores import Chroma"
      ],
      "metadata": {
        "id": "M9S5SrYHl7P9"
      },
      "execution_count": null,
      "outputs": []
    },
    {
      "cell_type": "code",
      "source": [
        "persist_directory = 'docs/chroma/' # for the purpose of storage in the vectorstorage"
      ],
      "metadata": {
        "id": "CNLmKDW3mSK3"
      },
      "execution_count": null,
      "outputs": []
    },
    {
      "cell_type": "code",
      "source": [
        "!rm -rf ./docs/chroma  # remove old database files if any"
      ],
      "metadata": {
        "id": "LKvxPqxVmdZ9"
      },
      "execution_count": null,
      "outputs": []
    },
    {
      "cell_type": "code",
      "source": [
        "vectordb = Chroma.from_documents(\n",
        "    documents=splits,\n",
        "    embedding=embedding,\n",
        "    persist_directory=persist_directory\n",
        ")"
      ],
      "metadata": {
        "id": "SDRyCy9Bmgah"
      },
      "execution_count": null,
      "outputs": []
    },
    {
      "cell_type": "code",
      "source": [
        "print(vectordb._collection.count())"
      ],
      "metadata": {
        "id": "oopTRRVYmiXm"
      },
      "execution_count": null,
      "outputs": []
    },
    {
      "cell_type": "markdown",
      "source": [
        "**Similarity Search**"
      ],
      "metadata": {
        "id": "IShA4UypmzF8"
      }
    },
    {
      "cell_type": "code",
      "source": [
        "question = \"\" # any concerned question you want to ask to the document"
      ],
      "metadata": {
        "id": "l-B-IugWm3ne"
      },
      "execution_count": null,
      "outputs": []
    },
    {
      "cell_type": "code",
      "source": [
        "docs = vectordb.similarity_search(question,k=3)"
      ],
      "metadata": {
        "id": "WKx_IRF7m_im"
      },
      "execution_count": null,
      "outputs": []
    },
    {
      "cell_type": "code",
      "source": [
        "vectordb.persist() # To save the instance for fututre purpose"
      ],
      "metadata": {
        "id": "E3sZM033nH0Y"
      },
      "execution_count": null,
      "outputs": []
    },
    {
      "cell_type": "markdown",
      "source": [
        "With till above code you can retrive the information from your document with acquiring over 80 percent of the result."
      ],
      "metadata": {
        "id": "SsKR1QKBXuFl"
      }
    },
    {
      "cell_type": "markdown",
      "source": [
        "In order to increase the effeciency of the output we would require to perform these.\n",
        "\n",
        "**Retrieval**\n",
        "Retrieval is the centerpiece of our retrieval augmented generation (RAG) flow."
      ],
      "metadata": {
        "id": "elcZaoWyYCM0"
      }
    },
    {
      "cell_type": "code",
      "source": [
        "#1 MMR - Maximum marginal relevance strives to achieve both relevance to the query and diversity among the results.\n",
        "\n",
        "docs_mmr = vectordb.max_marginal_relevance_search(question,k=3, fetch_k=3) # note how the result changes on variating the k value and also compare the result with the similarity search result to that of this result."
      ],
      "metadata": {
        "id": "UvjAVmXSWuV2"
      },
      "execution_count": null,
      "outputs": []
    },
    {
      "cell_type": "code",
      "source": [
        "docs_mmr[0].page_content[:100]"
      ],
      "metadata": {
        "id": "6KP8BeheYMJY"
      },
      "execution_count": null,
      "outputs": []
    },
    {
      "cell_type": "markdown",
      "source": [
        "Here is the protoype implementation for this project and there are further steps which can be implemented like oputput formatting. As mentioned the output may contain certain unfiltered characters. They can be filtered using certain measures."
      ],
      "metadata": {
        "id": "2ly7Js2C3Q9O"
      }
    }
  ]
}